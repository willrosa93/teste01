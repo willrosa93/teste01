{
  "nbformat": 4,
  "nbformat_minor": 0,
  "metadata": {
    "colab": {
      "provenance": [],
      "authorship_tag": "ABX9TyMkC3cjGFoTujRZO7nA3z69",
      "include_colab_link": true
    },
    "kernelspec": {
      "name": "python3",
      "display_name": "Python 3"
    },
    "language_info": {
      "name": "python"
    }
  },
  "cells": [
    {
      "cell_type": "markdown",
      "metadata": {
        "id": "view-in-github",
        "colab_type": "text"
      },
      "source": [
        "<a href=\"https://colab.research.google.com/github/willrosa93/teste01/blob/main/Comandos_SQL.ipynb\" target=\"_parent\"><img src=\"https://colab.research.google.com/assets/colab-badge.svg\" alt=\"Open In Colab\"/></a>"
      ]
    },
    {
      "cell_type": "code",
      "execution_count": null,
      "metadata": {
        "colab": {
          "base_uri": "https://localhost:8080/",
          "height": 140
        },
        "id": "uef3gI8za-BI",
        "outputId": "c7e81239-79cf-4627-8380-4126713c432f"
      },
      "outputs": [
        {
          "output_type": "error",
          "ename": "SyntaxError",
          "evalue": "ignored",
          "traceback": [
            "\u001b[0;36m  File \u001b[0;32m\"<ipython-input-1-6fb49d493ddc>\"\u001b[0;36m, line \u001b[0;32m2\u001b[0m\n\u001b[0;31m    CREATE DATABASE <nome>;\u001b[0m\n\u001b[0m           ^\u001b[0m\n\u001b[0;31mSyntaxError\u001b[0m\u001b[0;31m:\u001b[0m invalid syntax\n"
          ]
        }
      ],
      "source": [
        "# Criar database\n",
        "CREATE DATABASE <nome>;\n",
        "\n",
        "# Mostrar databases\n",
        "SHOW DATABASES;\n",
        "\n",
        "# Deletar databases\n",
        "DROP DATABASE <nome>"
      ]
    },
    {
      "cell_type": "code",
      "source": [
        "# Criar tabelas\n",
        "CREATE TABLE <nome> (\n",
        "    id INT PRIMARY KEY,\n",
        "    titulo VARCHAR(100)\n",
        "\n",
        ")\n",
        "\n",
        "# Inserir valores na tabela\n",
        "INSERT INTO <nome> (id, titulo)\n",
        "VALUES\n",
        "  (1, 'Teste1'),\n",
        "  (2, 'Teste2')\n",
        "\n",
        "# Deletando tabela\n",
        "DROP TABLE <nome>"
      ],
      "metadata": {
        "id": "L6pg63cpck9T"
      },
      "execution_count": null,
      "outputs": []
    },
    {
      "cell_type": "code",
      "source": [
        "from os import SF_SYNC\n",
        "# Tipos de dados\n",
        "# de texto\n",
        "CHAR(x) - Textos de 0 a 255 caracteres\n",
        "VARCHAR(x) - Textos de 0 a 65535 caracteres\n",
        "Tinytext(x) - Textos até 255 caracteres\n",
        "Mediumtext - Textos até 16777215 caracteres\n",
        "Obs.: CHAR e VARCHAR aceitam números e caracteres específicos\n",
        "\n",
        "# de números\n",
        "BIT(x) - 1 a 64 caracteres\n",
        "Tinyint(x) - 1 a 255 caracteres\n",
        "Bool - 0 é falso, outros valores são verdadeiros\n",
        "Int(x) - Valores entre -2147483648 a 2147483648\n",
        "\n",
        "# de datas\n",
        "DATE - Formato yyyy-mm-dd\n",
        "DATETIME - Formato yyyy-mm-dd hh:mm:ss\n",
        "TIMESTAMP - Formato igual ao DATETIME, porém, apenas entre os anos 1970 a 2038\n",
        "Obs.: Datas são inseridas enter \"\""
      ],
      "metadata": {
        "id": "ghXBHPmFeCLV"
      },
      "execution_count": null,
      "outputs": []
    },
    {
      "cell_type": "code",
      "source": [
        "# CRUD\n",
        "\n",
        "# C\n",
        "CREATE DATABASE ou TABLE\n",
        "\n",
        "# R (Ler)\n",
        "SELECT * FROM <tabela>\n",
        "\n",
        "# U\n",
        "UPDATE <tabela>\n",
        "  SET <tabela> = <Valor>\n",
        "  WHERE <condicao>\n",
        "\n",
        "# D\n",
        "DELETE FROM <tabela> WHERE <condicao>"
      ],
      "metadata": {
        "id": "ZW4jO-rIfj9H"
      },
      "execution_count": null,
      "outputs": []
    },
    {
      "cell_type": "code",
      "source": [
        "# Operadores\n",
        "## de comparação\n",
        "WHERE <coluna> > 10 # Maior que\n",
        "WHERE <coluna> < 10 # Menor que\n",
        "WHERE <coluna> = 10 # Igual a\n",
        "WHERE <coluna> >= 10 # Maior ou igual\n",
        "WHERE <coluna> <= 10 # Menor ou igual\n",
        "WHERE <coluna> <> 10 # Diferente de, retorna NULL se um dos parâmetros for nulo\n",
        "WHERE <coluna> != 10 # Diferente de, retorna NULL se um dos parâmetros for nulo\n",
        "\n",
        "# Seleção ente intervalo\n",
        "SELECT * FROM <tabela>\n",
        "WHERE <coluna> BETWEEN <valor_inicial> AND <valor_final>\n",
        "\n",
        "# Seleção por meio de um padrão\n",
        "SELECT * FROM <tabela>\n",
        "WHERE <coluna> LIKE 'o%'; # Retornará dados que inicial com 'o'\n",
        "WHERE <coluna> LIKE '%o'; # Retornará dados que terminam com 'o'\n",
        "WHERE <coluna> LIKE '%o%'; # Retornará dados que contenham 'o' em qualquer lugar\n",
        "WHERE <coluna> LIKE '_o%'; # Retornará dados que contenham 'o' no segundo caractere\n",
        "WHERE <coluna> NOT LIKE '_o%'; # Retornará dados que não contenham 'o' no segundo caractere\n",
        "\n",
        "# Seleção entre conjunto de valores específicos\n",
        "WHERE <coluna> IN ('10','11','12') # Retornará dados que contenham 10, 11 e 12\n",
        "WHERE <coluna> NOT IN ('10','11','12') # Retornará dados que não contenham 10, 11 e 12\n",
        "\n",
        "# Seleção de variações de valores\n",
        "SELECT DISTINCT <coluna> FROM <tabela>\n",
        "\n",
        "## Lógicos\n",
        "# Recebe duas condições, retornará resultados que atendam as duas\n",
        "WHERE <coluna1> = 10 AND <coluna2> = 1\n",
        "\n",
        "# Recebe duas condições, retornará resultados que atendam pelo menos uma\n",
        "WHERE <coluna1> = 10 OR <coluna2> = 1\n",
        "\n",
        "# Inverte uma cláusula\n",
        "WHERE NOT <coluna> = 'Verde'"
      ],
      "metadata": {
        "id": "HTNdicdBFkaG"
      },
      "execution_count": null,
      "outputs": []
    },
    {
      "cell_type": "code",
      "source": [
        "# Classificação em ordem crescente (por detault) de registros\n",
        "SELECT <id>, <cidade> FROM <tabela>\n",
        "WHERE <coluna> = '10'\n",
        "ORDER BY <cidade>, <id> DESC # DESC significa que a ordenação será decrescente"
      ],
      "metadata": {
        "id": "o2N1mP_WKVx4"
      },
      "execution_count": null,
      "outputs": []
    },
    {
      "cell_type": "code",
      "source": [
        "# Limitar resultados\n",
        "SELECT * FROM <tabela>\n",
        "ORDER BY <salary>\n",
        "LIMIT 10 # Resultará apenas os 10 menores salários"
      ],
      "metadata": {
        "id": "0CHH39hKK-o1"
      },
      "execution_count": null,
      "outputs": []
    },
    {
      "cell_type": "code",
      "source": [
        "## Funções\n",
        "SELECT MAX(salary) FROM salaries # Retorna o maior valor de uma coluna\n",
        "SELECT MIN(salary) FROM salaries # Retorna o menor valor de uma coluna\n",
        "SELECT COUNT(id) FROM salaries WHERE salary > 1000 # Retorna o número de ids que recebem salário maior que 1000\n",
        "SELECT AVG(salary) FROM salaries # Retorna a média dos salários\n",
        "SELECT SUM(salary) FROM salaries # Retorna a soma dos salários\n",
        "SELECT CEIL(salary) FROM salaries # Arredonda para cima\n",
        "SELECT FLOOR(salary) FROM salaries # Arredonda para baixo"
      ],
      "metadata": {
        "id": "umhMlnJELbJW"
      },
      "execution_count": null,
      "outputs": []
    },
    {
      "cell_type": "code",
      "source": [
        "# Renomear colunas\n",
        "SELECT SUM(salary) AS soma_salarios FROM salaries"
      ],
      "metadata": {
        "id": "oQ7f64mCMbLp"
      },
      "execution_count": null,
      "outputs": []
    },
    {
      "cell_type": "code",
      "source": [
        "## CONSTRAINTS - Regras que determinam como os campos serão preenchidos\n",
        "# Campo não pode ser nulo\n",
        "NOT NULL\n",
        "\n",
        "# Garante que todos os valores em uma coluna serão distintos\n",
        "UNIQUE\n",
        "\n",
        "# Identificador de um registro na tabela\n",
        "PRIMARY KEY # Só pode ser adicionada em uma coluna da tabela, geralmente é o ID\n",
        "\n",
        "# Adiciona 1 a todo registro\n",
        "AUTO_INCREMENT\n",
        "\n",
        "# Ligação entre tabelas\n",
        "FOREIGN KEY\n",
        "\n",
        "# Adiciona índice a uma coluna, isso prioriza uma coluna e pode agilizar as consultas\n",
        "INDEX # Para remover um index utilize: DROP INDEX\n",
        "\n",
        "Exempo:\n",
        "\n",
        "CREATE TABLE pessoas (\n",
        "      id INT PRIMARY KEY AUTO_INCREMENTE NOT NULL,\n",
        "      nome VARCHAR(30),\n",
        "      email VARCHAR(255) UNIQUE,\n",
        "      documento_id INT NOT NULL\n",
        "      FOREIGN KEY (documento_id) REFERENCES documentos(id)\n",
        ");\n",
        "\n",
        "CREATE INDEX index_documento_id;\n",
        "REMOVE INDEX index_documento_id;"
      ],
      "metadata": {
        "id": "PsdC-0rUM1GT"
      },
      "execution_count": null,
      "outputs": []
    },
    {
      "cell_type": "code",
      "source": [
        "## Consultas que envolvem duas ou mais tabelas que tenham relações entre si\n",
        "# Resulta nas colunas que fazem relação entre as tabelas\n",
        "SELECT e.id, e.nome, p.id, p.nome\n",
        "FROM estudantes AS e\n",
        "INNER JOIN professores AS p\n",
        "ON e.nome = p.nome;\n",
        "\n",
        "# Resulta de todos os dados da tabela da esquerda (do FROM) e das necessárias da direita\n",
        "SELECT e.id, e.nome, p.id, p.nome\n",
        "FROM estudantes AS e\n",
        "LEFT JOIN professores AS p\n",
        "ON e.nome = p.nome;\n",
        "\n",
        "# Resulta de todos os dados da tabela da direita e das necessárias da esquerda (do FROM)\n",
        "SELECT e.id, e.nome, p.id, p.nome\n",
        "FROM estudantes AS e\n",
        "RIGHT JOIN professores AS p\n",
        "ON e.nome = p.nome;"
      ],
      "metadata": {
        "id": "DVvfV6gWPshy"
      },
      "execution_count": null,
      "outputs": []
    },
    {
      "cell_type": "code",
      "source": [
        "## Agrupamentos e Subqueries\n",
        "# Combina resultados dois ou mais selects. Obs.: As colunas precisam ter o mesmo nome, seu uso não traz dados duplicados\n",
        "SELECT pais FROM clientes\n",
        "UNION\n",
        "SELECT pais FROM fornecedores;\n",
        "\n",
        "# Variação do UNION é o UNION ALL, a diferença é que com o UNION ALL serão retornados valores duplicados se houverem\n",
        "\n",
        "# Agrupamento de colunas e checagem de quantidade de determinados elementos\n",
        "SELECT <genero>, COUNT(genero) AS 'Qtd por gênero' FROM employees\n",
        "GROUP BY <genero>\n",
        "\n",
        "----------------------------------------------------------------------------------\n",
        "Resultado:\n",
        "Gênero               Qtd por gênero\n",
        "M                    179973\n",
        "F                    120054\n",
        "\n",
        "# Alternativa ao WHERE, o HAVING\n",
        "SELECT title, COUNT(title) AS titulos FROM titles\n",
        "HAVING COUNT(title) > 100000 # com WHERE daria erro no filtro\n",
        "GROUP BY title\n",
        "\n",
        "# Por vezes é preciso criar uma query dentro de uma outra, para isto usaremos as subqueries\n",
        "SELECT first_name, (\n",
        "    SELECT SUM(salary) FROM salaries\n",
        "    WHERE employees.emp_no = salaries.emp_no\n",
        ") AS soma_salario\n",
        "FROM employees\n",
        "ORDER BY emp_no DESC; # Para usar subqueries é preciso relacionar a consulta interna com a externa, semelhante ao que é feito com JOIN\n",
        "\n",
        "# Conferir se existe algum registro em algum registro em alguma subquery, podendo retornar resultados se existir algum de fato\n",
        "SELECT empo_no, first_name, last_name (\n",
        "    SELECT SUM(salary) FROM salaries\n",
        "    WHERE employees.emp_no = salaries.emp_no\n",
        ") AS soma_salario\n",
        "FROM employees\n",
        "WHERE EXISTS (\n",
        "    SELECT salary\n",
        "    FROM salaries\n",
        "    WHERE employees.emp_no = salaries.emp_no\n",
        "    HAVING SUM(salary) > 2000000\n",
        ");\n",
        "\n",
        "# ANY, retorna resultados que recebem TRUE da subquery\n",
        "SELECT fist_name\n",
        "FROM employees\n",
        "WHERE emp_no = ANY(\n",
        "    SELECT emp_no\n",
        "    FROM salaries\n",
        "    WHERE salary > 150000\n",
        ") # Essa consulta retornará os nomes de quem ganha mais que 150000"
      ],
      "metadata": {
        "id": "9Rw3C8gpQwUX"
      },
      "execution_count": null,
      "outputs": []
    },
    {
      "cell_type": "code",
      "source": [
        "## Funções de string\n",
        "# Retorna o número de caracteres de uma string\n",
        "SELECT first_name FROM actor\n",
        "WHERE CHAR_LENGHT(documento) = 14 # Retornará nomes de quem tem documento com 14 caracteres, ou seja, CNPJs\n",
        "\n",
        "# Concatenar duas ou mais strings\n",
        "SELECT CONCAT (first_name, \" \", last_name) AS nome_completo\n",
        "FROM sakila.actor #sakila foi o schema criado anteriormente\n",
        "\n",
        "# Concatenar duas ou mais strings apontando um separador\n",
        "SELECT CONCAT_WS (' ',first_name, last_name) AS nome_completo\n",
        "FROM sakila.actor #sakila foi o schema criado anteriormente\n",
        "\n",
        "# Formatar um número determinando o número de casas decimais\n",
        "SELECT customer_id, amount, FORMAT(amount,5) AS amount_ajustado FROM payment # na coluna amount_ajustado teremos o número com 5 casas decimais\n",
        "\n",
        "# Retornar a posição do caractere ou string que estamos buscando\n",
        "SELECT email. INSTR(email,'@') FROM customer\n",
        "\n",
        "# Retorna letras minusculas\n",
        "SELECT first_name, last_name, LCASE(CONCAT(firt_name,' ',last_name)) AS nome_completo FROM customer\n",
        "\n",
        "# Extrai quantidade de caracteres definido da esquerda para direita\n",
        "SELECT title, LEFT(title,8) FROM filme WHERE filme_id = 1\n",
        "\n",
        "# Extrai quantidade de caracteres definido da direita para esquerda\n",
        "SELECT title, RIGHT(title,8) FROM filme WHERE filme_id = 1\n",
        "\n",
        "# Alterar parte de string\n",
        "SELECT REPLACE (gender, \"Action\", \"Action & Adventure\") FROM category\n",
        "\n",
        "# Extrai uma string a partir de dois indices, inicio e fim\n",
        "SELECT SUBSTR(last_update,9,2) AS dia, SUBSTR(last_update,6,2) AS \"mês\", SUBSTR(last_update,1,4) ano FROM actor\n",
        "---------------------------------------------------------------------------------------------------------------\n",
        "Resultado\n",
        "last_update               dia   mês   ano\n",
        "2006-02-15                15    02    2006\n",
        "\n",
        "# Retorna todas as letras em maisculo\n",
        "SELECT UCASE(description) FROM film"
      ],
      "metadata": {
        "id": "yBFxzh2PZxlJ"
      },
      "execution_count": null,
      "outputs": []
    },
    {
      "cell_type": "code",
      "source": [
        "## Funções de datas\n",
        "# Adicionar ou remover uma quantidade de dias, meses ou anos de uma data\n",
        "SELECT last_update,\n",
        "ADDDATE(last_update, '5 DAYS') AS \"adiciona 5 dias\",\n",
        "ADDDATE(last_update, INTERVAL 2 MONTHS) AS \"adiciona 2 meses\",\n",
        "ADDDATE(last_update, INTERVAL -3 MONTHS) AS \"remove 2 meses\",\n",
        "ADDDATE(last_update, INTERVAL 1 YEAR) AS \"adiciona 1 ano\"\n",
        "\n",
        "# Calcular diferença entre duas datas\n",
        "SELECT DATEDIFF (ADDDATE(last_update, INTERVAL -2 YEAR), last_update) FROM actor\n",
        "\n",
        "# Adicionar ou remover um tempo de uma data\n",
        "SELECT last_update, ADDTIME(last_update,'5 03:00:00') FROM actor # Adicionamos 5 dias e 3 horas\n",
        "\n",
        "# Formatar datas com padrão indicado\n",
        "SELECT DATE_FORMAT(last_update, '%y') ano,\n",
        "DATE_FORMAT(last_update, '%d/%m/%y') data_formatada,\n",
        "last_update\n",
        "FROM actor\n",
        "\n",
        "# Retorna o dia da data utilizada\n",
        "SELECT last_update, DAY(last_update) AS dia,\n",
        "DAY(ADDTIME(last_update, '5 00:00:00') AS adicionar_5_dias)\n",
        "FROM actor\n",
        "\n",
        "# Retorna o dia da semana de uma data\n",
        "SELECT last_update, DAYOFWEEK(last_update) FROM actor\n",
        "\n",
        "# Retorna o dia do ano em uma data\n",
        "SELECT last_update, DAYOFYEAR(last_update) FROM actor\n",
        "\n",
        "# Retorna a semana do ano de uma data\n",
        "SELECT last_update, WEEKOFYEAR(last_update) FROM actor\n",
        "\n",
        "# Extrai o mês de uma data\n",
        "SELECT last_update, MONTH(last_update) FROM actor\n",
        "\n",
        "# Extrai o ano de uma data\n",
        "SELECT last_update, YEAR(last_update) FROM actor"
      ],
      "metadata": {
        "id": "KwnR9abYj-uH"
      },
      "execution_count": null,
      "outputs": []
    },
    {
      "cell_type": "code",
      "source": [
        "# Avaliar condições e retorna uma das várias expressões possíveis\n",
        "# No SELECT\n",
        "   SELECT nomeProduto, precoProduto,\n",
        " CASE nomeProduto\n",
        " WHEN 'margarina' THEN (precoProduto)*0.9\n",
        " WHEN 'vinagre' THEN (precoProduto)*0.8\n",
        " WHEN 'vinho tinto' THEN (precoProduto)*0.7\n",
        " ELSE 'Sem desconto disponível'\n",
        " END AS produtosComDesconto\n",
        " From produtos;\n",
        "\n",
        " # No UPDATE\n",
        " UPDATE teste.contratos c\n",
        "SET codigo_tipo_contrato =\n",
        "\tCASE\n",
        "\t\tWHEN p.documento LIKE '___________' THEN '10'\n",
        "\t\tWHEN p.documento LIKE '______________' THEN '20'\n",
        "\t\tELSE codigo_tipo_contrato\n",
        "\tEND\n",
        "FROM teste.pessoas p\n",
        "WHERE c.identificador_cliente = p.identificador"
      ],
      "metadata": {
        "id": "MR_covDonLLj"
      },
      "execution_count": null,
      "outputs": []
    }
  ]
}